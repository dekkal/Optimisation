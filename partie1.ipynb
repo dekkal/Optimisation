{
 "cells": [
  {
   "cell_type": "code",
   "execution_count": 125,
   "id": "2f631b1b",
   "metadata": {},
   "outputs": [],
   "source": [
    "import scipy as sp\n",
    "from scipy.sparse.linalg import spsolve\n",
    "from scipy.sparse import csr_matrix, csc_matrix \n",
    "from scipy.sparse import diags\n",
    "from scipy.sparse import  spdiags\n",
    "import numpy as np\n",
    "from matplotlib.pylab import *\n",
    "from numpy import linalg as la\n",
    "import sys"
   ]
  },
  {
   "cell_type": "code",
   "execution_count": 126,
   "id": "7492fb49",
   "metadata": {},
   "outputs": [],
   "source": [
    "# On definie les paramètres\n",
    "eps = 0.001#float(input(\"Saisir epsilon : \"))\n",
    "\n",
    "N = 4\n",
    "t0 = 0\n",
    "T = 1\n",
    "alpha =1.\n",
    "beta = 2.718281828\n",
    "h = (T-t0) / (N+1)\n",
    "hh = h*h                                                \n",
    "x0 = np.zeros(N).T"
   ]
  },
  {
   "cell_type": "code",
   "execution_count": 127,
   "id": "3a157bab",
   "metadata": {},
   "outputs": [],
   "source": [
    "# On créer le vecteur x des points d'évaluations\n",
    "x = np.zeros(N)\n",
    "for i in range(1,N+1) : \n",
    "    x[i-1] = t0 + i*h"
   ]
  },
  {
   "cell_type": "code",
   "execution_count": 128,
   "id": "ee75f56f",
   "metadata": {},
   "outputs": [
    {
     "name": "stdout",
     "output_type": "stream",
     "text": [
      "[-25.          -0.          -0.         -67.95704571]\n"
     ]
    }
   ],
   "source": [
    "\n",
    "\n",
    "                       # ~~~~~~~~~~~~~~~~~~~~~~~~~~~~~~~~~Pour le vecteur B~~~~~~~~~~~~~~~~~~~~~~~~~~~~~~~~~~~~~~~~~~~~~~~~~~~~~~~~~~~~~\n",
    "def vect_b(n):\n",
    "    v=1/(h*h)  \n",
    "    b=np.zeros(n)\n",
    "    b[0]=1\n",
    "    b[n-1]=np.exp(1)\n",
    "    b1=-v*b\n",
    "    return b1\n",
    "\n",
    "b=vect_b(N)\n",
    "print(b)"
   ]
  },
  {
   "cell_type": "code",
   "execution_count": 129,
   "id": "e0cff8bc",
   "metadata": {},
   "outputs": [
    {
     "name": "stdout",
     "output_type": "stream",
     "text": [
      "[[-51.  25.   0.   0.]\n",
      " [ 25. -51.  25.   0.]\n",
      " [  0.  25. -51.  25.]\n",
      " [  0.   0.  25. -51.]]\n"
     ]
    }
   ],
   "source": [
    "                  # ~~~~~~~~~~~~~~~~~~~~~~~~~~~~~Création de la matrice A~~~~~~~~~~~~~~~~~~~~~~~~~~~~~~~~~~~~~~~~~~~~~~~~~~~~~~~~~~~~~\n",
    "\n",
    "\n",
    "A = 1/hh*((-2.-hh)*np.eye(N)  + np.diag(np.ones(N-1),-1) + np.diag(np.ones(N-1),1))\n",
    "print(A)\n",
    "\n"
   ]
  },
  {
   "cell_type": "code",
   "execution_count": 130,
   "id": "84305dc4",
   "metadata": {},
   "outputs": [
    {
     "name": "stdout",
     "output_type": "stream",
     "text": [
      "Memory utilised (bytes):  256\n",
      "Memory utilised (bytes):  144\n"
     ]
    }
   ],
   "source": [
    "print(\"Memory utilised (bytes): \", sys.getsizeof(A))\n",
    "print(\"Memory utilised (bytes): \", sys.getsizeof(b))"
   ]
  },
  {
   "cell_type": "code",
   "execution_count": null,
   "id": "e9b326b1",
   "metadata": {},
   "outputs": [],
   "source": [
    "# def jacobi_(A, b, x0, eps, itmax):\n",
    "#     it = 0\n",
    "#     err = np.linalg.norm(b - A.dot(x0))\n",
    "#     x_old = x0\n",
    "#     n = len(A)\n",
    "#     x = np.zeros(n)\n",
    "#     while err > eps and it < itmax:\n",
    "#         for i in range(n):\n",
    "#             S = 0\n",
    "#             for j in range(i):\n",
    "#                 S += A[i][j] * x_old[j]\n",
    "#             for j in range(i + 1, n):\n",
    "#                 S += A[i][j] * x_old[j]\n",
    "#             x[i] = (b[i] - S) / A[i][i]\n",
    "#         x_old = x\n",
    "#         err = np.linalg.norm(b - A.dot(x))\n",
    "#         it += 1\n",
    "#     return x"
   ]
  },
  {
   "cell_type": "code",
   "execution_count": null,
   "id": "65c7c996",
   "metadata": {},
   "outputs": [],
   "source": [
    "# print(\"~~~~~~~~~~~~~~~~~~~La solution approchée~~~~~~~~~~~~~~~~~~~~~~~~~~~~~~~~~~~~\")\n",
    "# print(\"Jacobi :\", jacobi_(A, b1, x0, eps, itmax))\n"
   ]
  },
  {
   "cell_type": "code",
   "execution_count": 131,
   "id": "0b6b37fd",
   "metadata": {},
   "outputs": [],
   "source": [
    "#spa= csc_matrix(A)\n",
    "#print(spa)"
   ]
  },
  {
   "cell_type": "code",
   "execution_count": 132,
   "id": "8bc87708",
   "metadata": {},
   "outputs": [
    {
     "name": "stdout",
     "output_type": "stream",
     "text": [
      "[1.22176995 1.49241069 1.82274786 2.22599495]\n"
     ]
    }
   ],
   "source": [
    "                    # ~~~~~~~~~~~~~~~~~~~~~~~~~~~~~~~~~La solution approchée ~~~~~~~~~~~~~~~~~~~~~~~~~~~~~~~~~~~~~~~~~~~~~~~~~~~~~~~~~~~~~\n",
    "\n",
    "\n",
    "u= np . linalg . solve (A, b)\n",
    "print(u)"
   ]
  },
  {
   "cell_type": "code",
   "execution_count": 133,
   "id": "49520adb",
   "metadata": {},
   "outputs": [
    {
     "name": "stdout",
     "output_type": "stream",
     "text": [
      "hfhfhdjjd [1.22140276 1.4918247  1.8221188  2.22554093]\n"
     ]
    }
   ],
   "source": [
    "               # ~~~~~~~~~~~~~~~~~~~~~~~~~~~~~~~~~   La solution exacte ~~~~~~~~~~~~~~~~~~~~~~~~~~~~~~~~~~~~~~~~~~~~~~~~~~~~~~~~~~~~~\n",
    "\n",
    " \n",
    "ex=np.exp(x)\n",
    "print(\"la solution exacte\",ex)"
   ]
  },
  {
   "cell_type": "code",
   "execution_count": 134,
   "id": "61191ba2",
   "metadata": {},
   "outputs": [
    {
     "name": "stdout",
     "output_type": "stream",
     "text": [
      "[0.00036719 0.00058599 0.00062906 0.00045402]\n"
     ]
    }
   ],
   "source": [
    "err=abs(u-ex)\n",
    "print(err)"
   ]
  },
  {
   "cell_type": "code",
   "execution_count": 135,
   "id": "3a110b61",
   "metadata": {},
   "outputs": [
    {
     "name": "stdout",
     "output_type": "stream",
     "text": [
      "l'erreur est  [0.00036719 0.00058599 0.00062906 0.00045402]\n"
     ]
    },
    {
     "data": {
      "image/png": "[encoded data removed]",
      "text/plain": [
       "<Figure size 432x288 with 1 Axes>"
      ]
     },
     "metadata": {
      "needs_background": "light"
     },
     "output_type": "display_data"
    }
   ],
   "source": [
    "print(\"l'erreur est \",err)\n",
    "plt.plot(x,err,label=\"erreur\")\n",
    "plt.plot(x, ex,label=\"solution exacte\")\n",
    "plt.plot(x,  u,label=\"solution approchée\")\n",
    "  \n",
    "plt.xlabel('x - axis')\n",
    "plt.ylabel('y - axis')\n",
    "plt.title(' graphe de comparaison')\n",
    "  \n",
    "plt.legend()\n",
    "plt.show()"
   ]
  },
  {
   "cell_type": "code",
   "execution_count": null,
   "id": "d2e41d6a",
   "metadata": {},
   "outputs": [],
   "source": []
  },
  {
   "cell_type": "code",
   "execution_count": null,
   "id": "fd048284",
   "metadata": {},
   "outputs": [],
   "source": []
  },
  {
   "cell_type": "code",
   "execution_count": null,
   "id": "52a889c6",
   "metadata": {},
   "outputs": [],
   "source": []
  }
 ],
 "metadata": {
  "kernelspec": {
   "display_name": "Python 3.8.10 64-bit",
   "language": "python",
   "name": "python3"
  },
  "language_info": {
   "codemirror_mode": {
    "name": "ipython",
    "version": 3
   },
   "file_extension": ".py",
   "mimetype": "text/x-python",
   "name": "python",
   "nbconvert_exporter": "python",
   "pygments_lexer": "ipython3",
   "version": "3.8.10"
  },
  "vscode": {
   "interpreter": {
    "hash": "916dbcbb3f70747c44a77c7bcd40155683ae19c65e1c03b4aa3499c5328201f1"
   }
  }
 },
 "nbformat": 4,
 "nbformat_minor": 5
}
